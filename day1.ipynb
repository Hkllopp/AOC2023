{
 "cells": [
  {
   "cell_type": "code",
   "execution_count": 12,
   "metadata": {},
   "outputs": [
    {
     "name": "stdout",
     "output_type": "stream",
     "text": [
      "54697\n"
     ]
    }
   ],
   "source": [
    "import re\n",
    "\n",
    "with open('day1input.txt') as f:\n",
    "    input = f.read()\n",
    "    \n",
    "cal_sum = 0\n",
    "for ligne in input.split('\\n'):\n",
    "    # getting only numbers in one string\n",
    "    nums = ''.join(re.findall(r'\\d+', ligne))\n",
    "    # getting first and last number in int\n",
    "    cal_val = int(f\"{nums[0]}{nums[-1]}\")\n",
    "    # adding to sum\n",
    "    cal_sum += cal_val\n",
    "\n",
    "print(cal_sum)"
   ]
  },
  {
   "cell_type": "code",
   "execution_count": 13,
   "metadata": {},
   "outputs": [
    {
     "name": "stdout",
     "output_type": "stream",
     "text": [
      "54885\n"
     ]
    }
   ],
   "source": [
    "num_str = {\n",
    "    \"one\" : \"one1one\",\n",
    "    \"two\" : \"two2two\",\n",
    "    \"three\" : \"three3three\",\n",
    "    \"four\" : \"four4four\",\n",
    "    \"five\" : \"five5five\",\n",
    "    \"six\" : \"six6six\",\n",
    "    \"seven\" : \"seven7seven\",\n",
    "    \"eight\" : \"eight8eight\",\n",
    "    \"nine\" : \"nine9nine\"\n",
    "}\n",
    "\n",
    "for k,v in num_str.items():\n",
    "    input = input.replace(k,v)\n",
    "\n",
    "cal_sum = 0\n",
    "for ligne in input.split('\\n'):\n",
    "    # getting only numbers in one string\n",
    "    nums = ''.join(re.findall(r'\\d+', ligne))\n",
    "    # getting first and last number in int\n",
    "    cal_val = int(f\"{nums[0]}{nums[-1]}\")\n",
    "    # adding to sum\n",
    "    cal_sum += cal_val\n",
    "\n",
    "print(cal_sum)"
   ]
  }
 ],
 "metadata": {
  "kernelspec": {
   "display_name": "env",
   "language": "python",
   "name": "python3"
  },
  "language_info": {
   "codemirror_mode": {
    "name": "ipython",
    "version": 3
   },
   "file_extension": ".py",
   "mimetype": "text/x-python",
   "name": "python",
   "nbconvert_exporter": "python",
   "pygments_lexer": "ipython3",
   "version": "3.11.6"
  }
 },
 "nbformat": 4,
 "nbformat_minor": 2
}
