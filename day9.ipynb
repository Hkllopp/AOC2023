{
 "cells": [
  {
   "cell_type": "code",
   "execution_count": 93,
   "metadata": {},
   "outputs": [
    {
     "name": "stdout",
     "output_type": "stream",
     "text": [
      "1993300041\n"
     ]
    }
   ],
   "source": [
    "with open('day9.txt') as f:\n",
    "    lines = f.readlines()\n",
    "extrapolations = []\n",
    "\n",
    "for line in lines:\n",
    "    f_row = [int(x) for x in line.split()]\n",
    "\n",
    "    rows = [f_row]\n",
    "    # Pyramid construction\n",
    "    while not all(x == 0 for x in rows[-1]): # While it is not a list of 0s\n",
    "        next_line = []\n",
    "        last_row = rows[-1]\n",
    "        for i in range(len(rows[-1])-1):\n",
    "            next_line.append(last_row[i+1] - last_row[i])\n",
    "        rows.append(next_line)\n",
    "\n",
    "    # Extrapolation\n",
    "    rows[-1].append(0)\n",
    "    nb_rows = len(rows)\n",
    "    for i, row in enumerate(rows): # For each row in the pyramid, starting from the bottom\n",
    "        # print(i, row)\n",
    "\n",
    "        row_to_extrapolate = nb_rows - i - 1\n",
    "        if row_to_extrapolate != nb_rows - 1: # Won't extrapolate the last row\n",
    "            difference = rows[row_to_extrapolate+1][-1]\n",
    "            extrapolation = rows[row_to_extrapolate][-1] + difference\n",
    "            rows[row_to_extrapolate].append(extrapolation)\n",
    "\n",
    "    extrapolations.append(rows[0][-1])\n",
    "print(sum(extrapolations))\n"
   ]
  },
  {
   "cell_type": "markdown",
   "metadata": {},
   "source": [
    "Exactly the same for part two but you just reverse the list and the start."
   ]
  },
  {
   "cell_type": "code",
   "execution_count": 94,
   "metadata": {},
   "outputs": [
    {
     "name": "stdout",
     "output_type": "stream",
     "text": [
      "1038\n"
     ]
    }
   ],
   "source": [
    "with open('day9.txt') as f:\n",
    "    lines = f.readlines()\n",
    "extrapolations = []\n",
    "\n",
    "for line in lines:\n",
    "    f_row = [int(x) for x in line.split()[::-1]] # HERE\n",
    "\n",
    "    rows = [f_row]\n",
    "    # Pyramid construction\n",
    "    while not all(x == 0 for x in rows[-1]): # While it is not a list of 0s\n",
    "        next_line = []\n",
    "        last_row = rows[-1]\n",
    "        for i in range(len(rows[-1])-1):\n",
    "            next_line.append(last_row[i+1] - last_row[i])\n",
    "        rows.append(next_line)\n",
    "\n",
    "    # Extrapolation\n",
    "    rows[-1].append(0)\n",
    "    nb_rows = len(rows)\n",
    "    for i, row in enumerate(rows): # For each row in the pyramid, starting from the bottom\n",
    "        # print(i, row)\n",
    "\n",
    "        row_to_extrapolate = nb_rows - i - 1\n",
    "        if row_to_extrapolate != nb_rows - 1: # Won't extrapolate the last row\n",
    "            difference = rows[row_to_extrapolate+1][-1]\n",
    "            extrapolation = rows[row_to_extrapolate][-1] + difference\n",
    "            rows[row_to_extrapolate].append(extrapolation)\n",
    "\n",
    "    extrapolations.append(rows[0][-1])\n",
    "print(sum(extrapolations))\n"
   ]
  }
 ],
 "metadata": {
  "kernelspec": {
   "display_name": "env",
   "language": "python",
   "name": "python3"
  },
  "language_info": {
   "codemirror_mode": {
    "name": "ipython",
    "version": 3
   },
   "file_extension": ".py",
   "mimetype": "text/x-python",
   "name": "python",
   "nbconvert_exporter": "python",
   "pygments_lexer": "ipython3",
   "version": "3.11.6"
  }
 },
 "nbformat": 4,
 "nbformat_minor": 2
}
