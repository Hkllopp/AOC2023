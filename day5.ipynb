{
 "cells": [
  {
   "cell_type": "markdown",
   "metadata": {},
   "source": [
    "# Part 1 Try 1 : Using a full mapping dict"
   ]
  },
  {
   "cell_type": "code",
   "execution_count": 62,
   "metadata": {},
   "outputs": [
    {
     "name": "stdout",
     "output_type": "stream",
     "text": [
      "Building the mapping dict\n",
      "Checking the seeds destinations\n",
      "Finding the lowest location\n",
      "35\n"
     ]
    }
   ],
   "source": [
    "with open(\"day5.txt\") as f:\n",
    "    data = f.read()\n",
    "\n",
    "_, others = data.split(\"seeds:\")\n",
    "seeds, others = others.split(\"seed-to-soil map:\")\n",
    "seeds_to_soil, others = others.split(\"soil-to-fertilizer map:\")\n",
    "soil_to_fertilizer, others = others.split(\"fertilizer-to-water map:\")\n",
    "fertilizer_to_water, others = others.split(\"water-to-light map:\")\n",
    "water_to_light, others = others.split(\"light-to-temperature map:\")\n",
    "light_to_temperature, others = others.split(\"temperature-to-humidity map:\")\n",
    "temperature_to_humidity, humidity_to_location = others.split(\n",
    "    \"humidity-to-location map:\"\n",
    ")\n",
    "\n",
    "\n",
    "def get_only_data_lines(lines: list[str]) -> list[str]:\n",
    "    return [line for line in lines.splitlines() if line and line[0].isdigit()]\n",
    "\n",
    "\n",
    "seeds = [int(seed) for seed in seeds.split(\" \") if seed]\n",
    "\n",
    "cat_list = [\n",
    "    (\"seeds_to_soil\", get_only_data_lines(seeds_to_soil)),\n",
    "    (\"soil_to_fertilizer\", get_only_data_lines(soil_to_fertilizer)),\n",
    "    (\"fertilizer_to_water\", get_only_data_lines(fertilizer_to_water)),\n",
    "    (\"water_to_light\", get_only_data_lines(water_to_light)),\n",
    "    (\"light_to_temperature\", get_only_data_lines(light_to_temperature)),\n",
    "    (\"temperature_to_humidity\", get_only_data_lines(temperature_to_humidity)),\n",
    "    (\"humidity_to_location\", get_only_data_lines(humidity_to_location)),\n",
    "]\n",
    "\n",
    "cat_mapping_dict = {}\n",
    "\n",
    "# Building the mapping dict\n",
    "print(\"Building the mapping dict\")\n",
    "for cat_name, cat in cat_list:\n",
    "    cat_mapping_dict[cat_name] = {}\n",
    "\n",
    "    for line in cat:\n",
    "        destination_start, source_start, range_length = line.split(\" \")\n",
    "        destination_start = int(destination_start)\n",
    "        source_start = int(source_start)\n",
    "        range_length = int(range_length)\n",
    "\n",
    "        destinations = range(\n",
    "            destination_start, destination_start + range_length\n",
    "        )\n",
    "        sources = range(source_start, source_start + range_length)\n",
    "\n",
    "        for destination, source in zip(destinations, sources):\n",
    "            cat_mapping_dict[cat_name][source] = destination\n",
    "\n",
    "print(\"Checking the seeds destinations\")\n",
    "seeds_destinations = []\n",
    "\n",
    "for seed in seeds:\n",
    "    source = seed\n",
    "    for cat_name, cat in cat_list:\n",
    "        if source in cat_mapping_dict[cat_name]:\n",
    "            mapped_source = cat_mapping_dict[cat_name][source]\n",
    "            # print(f\"Mapping found in {cat_name} for {source} to {mapped_source}\")\n",
    "            source = mapped_source\n",
    "\n",
    "    seeds_destinations.append(source)\n",
    "\n",
    "print(\"Finding the lowest location\")\n",
    "print(min(seeds_destinations))"
   ]
  },
  {
   "cell_type": "markdown",
   "metadata": {},
   "source": [
    "Out Of Memory"
   ]
  },
  {
   "cell_type": "markdown",
   "metadata": {},
   "source": [
    "# Part 1 Try 2 : Using a reduced mapping"
   ]
  },
  {
   "cell_type": "code",
   "execution_count": 93,
   "metadata": {},
   "outputs": [
    {
     "name": "stdout",
     "output_type": "stream",
     "text": [
      "Building the reduced mapping dict\n",
      "Checking the seeds destinations\n",
      "Finding the lowest location\n",
      "389056265\n"
     ]
    }
   ],
   "source": [
    "with open(\"day5.txt\") as f:\n",
    "    data = f.read()\n",
    "\n",
    "_, others = data.split(\"seeds:\")\n",
    "seeds, others = others.split(\"seed-to-soil map:\")\n",
    "seeds_to_soil, others = others.split(\"soil-to-fertilizer map:\")\n",
    "soil_to_fertilizer, others = others.split(\"fertilizer-to-water map:\")\n",
    "fertilizer_to_water, others = others.split(\"water-to-light map:\")\n",
    "water_to_light, others = others.split(\"light-to-temperature map:\")\n",
    "light_to_temperature, others = others.split(\"temperature-to-humidity map:\")\n",
    "temperature_to_humidity, humidity_to_location = others.split(\n",
    "    \"humidity-to-location map:\"\n",
    ")\n",
    "\n",
    "\n",
    "def get_only_data_lines(lines: list[str]) -> list[str]:\n",
    "    return [line for line in lines.splitlines() if line and line[0].isdigit()]\n",
    "\n",
    "\n",
    "seeds = [int(seed) for seed in seeds.split(\" \") if seed]\n",
    "\n",
    "cat_list = [\n",
    "    (\"seeds_to_soil\", get_only_data_lines(seeds_to_soil)),\n",
    "    (\"soil_to_fertilizer\", get_only_data_lines(soil_to_fertilizer)),\n",
    "    (\"fertilizer_to_water\", get_only_data_lines(fertilizer_to_water)),\n",
    "    (\"water_to_light\", get_only_data_lines(water_to_light)),\n",
    "    (\"light_to_temperature\", get_only_data_lines(light_to_temperature)),\n",
    "    (\"temperature_to_humidity\", get_only_data_lines(temperature_to_humidity)),\n",
    "    (\"humidity_to_location\", get_only_data_lines(humidity_to_location)),\n",
    "]\n",
    "\n",
    "cat_mapping_dict = {}\n",
    "\n",
    "# Building the mapping dict\n",
    "print(\"Building the reduced mapping dict\")\n",
    "for cat_name, cat in cat_list:\n",
    "    cat_mapping_dict[cat_name] = {}\n",
    "\n",
    "    for line in cat:\n",
    "        destination_start, source_start, range_length = line.split(\" \")\n",
    "        destination_start = int(destination_start)\n",
    "        source_start = int(source_start)\n",
    "        range_length = int(range_length)\n",
    "        # Only adding the source, destination_start and range_length\n",
    "        cat_mapping_dict[cat_name][source_start] = (\n",
    "            destination_start,\n",
    "            range_length,\n",
    "        )\n",
    "\n",
    "\n",
    "print(\"Checking the seeds destinations\")\n",
    "seeds_destinations = []\n",
    "\n",
    "for seed in seeds:\n",
    "    source = seed\n",
    "    for cat_name, cat in cat_list:\n",
    "        cat_name_keys = list(cat_mapping_dict[cat_name].keys())\n",
    "        for key in cat_name_keys:\n",
    "            # Checking if the source is in the range of the key\n",
    "            if (\n",
    "                source >= key\n",
    "                and source < key + cat_mapping_dict[cat_name][key][1]\n",
    "            ):\n",
    "                # print(f\"Mapping found in {cat_name} for {source} to {cat_mapping_dict[cat_name][key][0] + (source - key)}\")\n",
    "                source = cat_mapping_dict[cat_name][key][0] + (source - key)\n",
    "                break\n",
    "\n",
    "    seeds_destinations.append(source)\n",
    "\n",
    "print(\"Finding the lowest location\")\n",
    "print(min(seeds_destinations))"
   ]
  },
  {
   "cell_type": "markdown",
   "metadata": {},
   "source": [
    "In less than a second.\n",
    "Optimisation not bad.\n",
    "\n",
    "![](https://i.pinimg.com/originals/11/62/e6/1162e6cf2882cfce40818378932c49b8.jpg)"
   ]
  },
  {
   "cell_type": "markdown",
   "metadata": {},
   "source": [
    "# Part 2 Try 1 : Using the previous code"
   ]
  },
  {
   "cell_type": "code",
   "execution_count": 64,
   "metadata": {},
   "outputs": [
    {
     "name": "stdout",
     "output_type": "stream",
     "text": [
      "Checking the seeds destinations\n",
      "Finding the lowest location\n",
      "46\n"
     ]
    }
   ],
   "source": [
    "print(\"Checking the seeds destinations\")\n",
    "seeds_destinations = []\n",
    "\n",
    "for i in range(0, len(seeds), 2):\n",
    "    seeds_start = seeds[i]\n",
    "    seeds_length = seeds[i + 1]\n",
    "\n",
    "    sources = range(seeds_start, seeds_start + seeds_length)\n",
    "    for seed in sources:\n",
    "        source = seed\n",
    "        for cat_name, cat in cat_list:\n",
    "            cat_name_keys = list(cat_mapping_dict[cat_name].keys())\n",
    "            for key in cat_name_keys:\n",
    "                # Checking if the source is in the range of the key\n",
    "                if (\n",
    "                    source >= key\n",
    "                    and source < key + cat_mapping_dict[cat_name][key][1]\n",
    "                ):\n",
    "                    # print(f\"Mapping found in {cat_name} for {source} to {cat_mapping_dict[cat_name][key][0] + (source - key)}\")\n",
    "                    source = cat_mapping_dict[cat_name][key][0] + (\n",
    "                        source - key\n",
    "                    )\n",
    "                    break\n",
    "\n",
    "        seeds_destinations.append(source)\n",
    "\n",
    "print(\"Finding the lowest location\")\n",
    "print(min(seeds_destinations))"
   ]
  },
  {
   "cell_type": "markdown",
   "metadata": {},
   "source": [
    "Too long :("
   ]
  },
  {
   "cell_type": "code",
   "execution_count": 65,
   "metadata": {},
   "outputs": [
    {
     "name": "stdout",
     "output_type": "stream",
     "text": [
      "['50 98 2', '52 50 48']\n",
      "['0 15 37', '37 52 2', '39 0 15']\n",
      "['49 53 8', '0 11 42', '42 0 7', '57 7 4']\n",
      "['88 18 7', '18 25 70']\n",
      "['45 77 23', '81 45 19', '68 64 13']\n",
      "['0 69 1', '1 0 69']\n",
      "['60 56 37', '56 93 4']\n"
     ]
    }
   ],
   "source": [
    "for cat_name, cat in cat_list:\n",
    "    print(cat)"
   ]
  },
  {
   "cell_type": "code",
   "execution_count": 66,
   "metadata": {},
   "outputs": [
    {
     "data": {
      "text/plain": [
       "7"
      ]
     },
     "execution_count": 66,
     "metadata": {},
     "output_type": "execute_result"
    }
   ],
   "source": [
    "len(cat_list)"
   ]
  },
  {
   "cell_type": "markdown",
   "metadata": {},
   "source": [
    "# Part 2 Try 2 : Optimizing\n",
    "The goal here is for ever mapping to check if the previous mapping is in the same range and avoid checking one by one for every mapping."
   ]
  },
  {
   "cell_type": "code",
   "execution_count": 67,
   "metadata": {},
   "outputs": [
    {
     "data": {
      "text/plain": [
       "range(55, 68)"
      ]
     },
     "execution_count": 67,
     "metadata": {},
     "output_type": "execute_result"
    }
   ],
   "source": [
    "sources"
   ]
  },
  {
   "cell_type": "code",
   "execution_count": 94,
   "metadata": {},
   "outputs": [
    {
     "name": "stdout",
     "output_type": "stream",
     "text": [
      "Found the lowest location : 3889510\n"
     ]
    }
   ],
   "source": [
    "# sources dict structure\n",
    "\"\"\"\n",
    "{\n",
    "    step_val (-1 if seed, else 0 if mapping0 done, ... to 6 for mapping6 (last) done) : \n",
    "        [\n",
    "            array of tuples (values, their range)\n",
    "        ]\n",
    "}\n",
    "\"\"\"\n",
    "# The goal is to iterate over the sources, and pass them to the next cat until final cat\n",
    "\n",
    "sources_dict = {-1: [(seed, length) for seed, length in zip(seeds[::2], seeds[1::2])]}\n",
    "# Adding the other sources\n",
    "for i in range(len(cat_list)):\n",
    "    sources_dict[i] = []\n",
    "\n",
    "def chuck_mapping(mapping_step, verbose = False):\n",
    "    # For every mapping\n",
    "    # # For the sources are in the range\n",
    "    # # # Change the sources to their destination\n",
    "    # # # Add the destination to the next mapping (with the updated range)\n",
    "    # # # Remove them from the previous mapping\n",
    "    # # # The sources that coulnd't be mapped get stored in a list\n",
    "    # # For the others sources are not in the range\n",
    "    # # # Pass the sources to the next mapping\n",
    "    # For the sources that where not mapped\n",
    "    # # Add them to the next mapping (with the same range)\n",
    "    # # Remove the sources from the previous mapping\n",
    "\n",
    "    not_mapped_sources = sources_dict[mapping_step - 1]\n",
    "\n",
    "    print(\"Mapping \", cat_list[mapping_step][0]) if verbose else None\n",
    "\n",
    "    for i in cat_list[mapping_step][1]:\n",
    "        mapping_destination, mapping_start, mapping_length = i.split(\" \")\n",
    "        mapping_destination = int(mapping_destination)\n",
    "        mapping_start = int(mapping_start)\n",
    "        mapping_length = int(mapping_length)\n",
    "\n",
    "        print(f\"    Mapping {mapping_start}-{mapping_start + mapping_length}({mapping_length}) to {mapping_destination}-{mapping_destination + mapping_length}({mapping_length})\") if verbose else None\n",
    "\n",
    "        to_remove_sources = []\n",
    "        for source, length in not_mapped_sources:\n",
    "            \n",
    "            \"\"\"\n",
    "            Every combination of two ranges\n",
    "            source --- source + length and mapping_start --- mapping_start + mapping_length that can intersect\n",
    "\n",
    "            A1 B1 A2 B2\n",
    "            B1 A1 A2 B2\n",
    "            B1 A1 B2 A2\n",
    "            A1 B1 B2 A2\n",
    "\n",
    "            I couldn't find a way to do it without enumerating all the combinations\n",
    "\n",
    "            A1 = source\n",
    "            A2 = source + length\n",
    "            B1 = mapping_start\n",
    "            B2 = mapping_start + mapping_length\n",
    "            \"\"\"\n",
    "\n",
    "            if source < mapping_start and mapping_start < source + length and source + length < mapping_start + mapping_length:\n",
    "                print(\"        Left inclusion\") if verbose else None\n",
    "                end = source + length\n",
    "                can_be_mapped_start = mapping_start\n",
    "                can_be_mapped_range = source + length - mapping_start\n",
    "                cannot_be_mapped_start = source\n",
    "                cannot_be_mapped_range = mapping_start - source\n",
    "                destination_start = mapping_destination\n",
    "\n",
    "                print(f\"            Source {source}-{end}({length}) is in the range from {can_be_mapped_start}-{can_be_mapped_start + can_be_mapped_range}({can_be_mapped_range})\") if verbose else None\n",
    "\n",
    "                # Mapping the can_be_mapped_sources\n",
    "                sources_dict[mapping_step].append((destination_start, can_be_mapped_range))\n",
    "                print(f\"            Mapping {can_be_mapped_range} sources from {can_be_mapped_start}-{can_be_mapped_start + can_be_mapped_range} to {destination_start}-{destination_start + can_be_mapped_range}\") if verbose else None\n",
    "                \n",
    "                # Remove the entire source from the not_mapped_sources\n",
    "                to_remove_sources.append((source, length))\n",
    "                print(f\"            Removing {source}-{source + length} from the not_mapped_sources\") if verbose else None\n",
    "                \n",
    "                # Adding the not_can_be_mapped_sources to the not_mapped_sources\n",
    "                not_mapped_sources.append((cannot_be_mapped_start, cannot_be_mapped_range))\n",
    "                print(f\"            Adding {cannot_be_mapped_range} sources {cannot_be_mapped_start}-{cannot_be_mapped_start + cannot_be_mapped_range} to the not_mapped_sources\") if verbose else None\n",
    "            elif mapping_start <= source and source + length <= mapping_start + mapping_length:\n",
    "                print(\"        Middle inclusion\") if verbose else None\n",
    "                end = source + length\n",
    "                can_be_mapped_start = source\n",
    "                can_be_mapped_range = source + length - source\n",
    "                destination_start = mapping_destination + can_be_mapped_start - mapping_start\n",
    "\n",
    "                print(f\"            Source {source}-{end}({length}) is in the range from {can_be_mapped_start}-{can_be_mapped_start + can_be_mapped_range}({can_be_mapped_range})\") if verbose else None\n",
    "\n",
    "                # Mapping the can_be_mapped_sources\n",
    "                sources_dict[mapping_step].append((destination_start, can_be_mapped_range))\n",
    "                print(f\"            Mapping {can_be_mapped_range} sources from {can_be_mapped_start}-{can_be_mapped_start + can_be_mapped_range} to {destination_start}-{destination_start + can_be_mapped_range}\") if verbose else None\n",
    "                \n",
    "                # Remove the entire source from the not_mapped_sources\n",
    "                to_remove_sources.append((source, length))\n",
    "                print(f\"            Removing {source}-{source + length} from the not_mapped_sources\") if verbose else None\n",
    "            elif mapping_start < source and source < mapping_start + mapping_length and mapping_start + mapping_length < source + length:\n",
    "                print(\"        Right inclusion\") if verbose else None\n",
    "                end = source + length\n",
    "                can_be_mapped_start = source\n",
    "                can_be_mapped_range = mapping_start + mapping_length - source\n",
    "                cannot_be_mapped_start = mapping_start + mapping_length\n",
    "                cannot_be_mapped_range = source + length - mapping_start + mapping_length\n",
    "                destination_start = mapping_destination + can_be_mapped_start - mapping_start\n",
    "\n",
    "                print(f\"            Source {source}-{end}({length}) is in the range from {can_be_mapped_start}-{can_be_mapped_start + can_be_mapped_range}({can_be_mapped_range})\") if verbose else None\n",
    "\n",
    "                # Mapping the can_be_mapped_sources\n",
    "                sources_dict[mapping_step].append((destination_start, can_be_mapped_range))\n",
    "                print(f\"            Mapping {can_be_mapped_range} sources from {can_be_mapped_start}-{can_be_mapped_start + can_be_mapped_range} to {destination_start}-{destination_start + can_be_mapped_range}\") if verbose else None\n",
    "                \n",
    "                # Remove the entire source from the not_mapped_sources\n",
    "                to_remove_sources.append((source, length))\n",
    "                print(f\"            Removing {source}-{source + length} from the not_mapped_sources\") if verbose else None\n",
    "                \n",
    "                # Adding the not_can_be_mapped_sources to the not_mapped_sources\n",
    "                not_mapped_sources.append((cannot_be_mapped_start, cannot_be_mapped_range))\n",
    "                print(f\"            Adding {cannot_be_mapped_range} sources {cannot_be_mapped_start}-{cannot_be_mapped_start + cannot_be_mapped_range} to the not_mapped_sources\") if verbose else None\n",
    "            elif source < mapping_start and mapping_start < mapping_start + mapping_length and mapping_start + mapping_length < source + length:\n",
    "                print(\"        Surrounding inclusion\") if verbose else None\n",
    "                end = source + length\n",
    "                can_be_mapped_start = mapping_start\n",
    "                can_be_mapped_range = mapping_start + mapping_length - mapping_start\n",
    "                cannot_be_mapped_start_1 = source\n",
    "                cannot_be_mapped_range_1 = mapping_start - source\n",
    "                cannot_be_mapped_start_2 = mapping_start + mapping_length\n",
    "                cannot_be_mapped_range_2 = source + length - mapping_start + mapping_length\n",
    "\n",
    "                destination_start = mapping_destination\n",
    "\n",
    "                print(f\"            Source {source}-{end}({length}) is in the range from {can_be_mapped_start}-{can_be_mapped_start + can_be_mapped_range}({can_be_mapped_range})\") if verbose else None\n",
    "\n",
    "                # Mapping the can_be_mapped_sources\n",
    "                sources_dict[mapping_step].append((destination_start, can_be_mapped_range))\n",
    "                print(f\"            Mapping {can_be_mapped_range} sources from {can_be_mapped_start}-{can_be_mapped_start + can_be_mapped_range} to {destination_start}-{destination_start + can_be_mapped_range}\") if verbose else None\n",
    "                \n",
    "                # Remove the entire source from the not_mapped_sources\n",
    "                to_remove_sources.append((source, length))\n",
    "                print(f\"            Removing {source}-{source + length} from the not_mapped_sources\") if verbose else None\n",
    "                \n",
    "                # Adding the not_can_be_mapped_sources to the not_mapped_sources\n",
    "                not_mapped_sources.append((cannot_be_mapped_start_1, cannot_be_mapped_range_1))\n",
    "                print(f\"            Adding {cannot_be_mapped_range_1} sources {cannot_be_mapped_start_1}-{cannot_be_mapped_start_1 + cannot_be_mapped_range_1} to the not_mapped_sources\") if verbose else None\n",
    "                \n",
    "                # Adding the not_can_be_mapped_sources to the not_mapped_sources\n",
    "                not_mapped_sources.append((cannot_be_mapped_start_2, cannot_be_mapped_range_2))\n",
    "                print(f\"            Adding {cannot_be_mapped_range_2} sources {cannot_be_mapped_start_2}-{cannot_be_mapped_start_2 + cannot_be_mapped_range_2} to the not_mapped_sources\") if verbose else None\n",
    "            \n",
    "        for source, length in to_remove_sources:\n",
    "            not_mapped_sources.remove((source, length))\n",
    "            print(f\"            Removing {source}-{source + length} from the not_mapped_sources\") if verbose else None\n",
    "\n",
    "    # Sources that could not be mapped\n",
    "    for source, length in not_mapped_sources:\n",
    "        sources_dict[mapping_step].append((source, length))\n",
    "        print(f\"    Skipping {source}-{source + length} to the next mapping\") if verbose else None\n",
    "\n",
    "    # Removing the sources that could not be mapped from the previous mapping\n",
    "    sources_dict[mapping_step - 1] = [] \n",
    "\n",
    "_ = [chuck_mapping(i, verbose=False) for i in range(len(cat_list))] # for every mapping\n",
    "\n",
    "\n",
    "keys = []\n",
    "for key, length in sources_dict[6]:\n",
    "    keys.append(key) if key else None\n",
    "\n",
    "print(\"Found the lowest location :\", min(keys))"
   ]
  },
  {
   "cell_type": "markdown",
   "metadata": {},
   "source": [
    "Doesn't work :(\n",
    "    \n",
    "Need to track better every mapping with debugging or logging."
   ]
  }
 ],
 "metadata": {
  "kernelspec": {
   "display_name": "env",
   "language": "python",
   "name": "python3"
  },
  "language_info": {
   "codemirror_mode": {
    "name": "ipython",
    "version": 3
   },
   "file_extension": ".py",
   "mimetype": "text/x-python",
   "name": "python",
   "nbconvert_exporter": "python",
   "pygments_lexer": "ipython3",
   "version": "3.11.6"
  }
 },
 "nbformat": 4,
 "nbformat_minor": 2
}
