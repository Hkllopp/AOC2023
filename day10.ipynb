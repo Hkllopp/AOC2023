{
 "cells": [
  {
   "cell_type": "code",
   "execution_count": 186,
   "metadata": {},
   "outputs": [
    {
     "name": "stdout",
     "output_type": "stream",
     "text": [
      "70\n"
     ]
    }
   ],
   "source": [
    "with open(\"day10.txt\") as f:\n",
    "    lines = f.read().splitlines()\n",
    "\n",
    "# Surround the map with ground tiles\n",
    "lines = [\".\" + line + \".\" for line in lines]\n",
    "lines = [\".\" * len(lines[0])] + lines + [\".\" * len(lines[0])]\n",
    "\n",
    "list_n = [\"|\", \"L\", \"J\", \"S\"]\n",
    "list_s = [\"|\", \"7\", \"F\", \"S\"]\n",
    "list_e = [\"-\", \"L\", \"F\", \"S\"]\n",
    "list_w = [\"-\", \"7\", \"J\", \"S\"]\n",
    "\n",
    "\n",
    "def get_next_pipe(curr_p_pos, p_pos):\n",
    "    p_shape = lines[p_pos[0]][p_pos[1]]\n",
    "    connections = []\n",
    "    if p_shape in list_n:  # lead to north\n",
    "        if (p_pos[0] - 1,p_pos[1]) != curr_p_pos and lines[p_pos[0] - 1][p_pos[1]] in list_s:\n",
    "            connections.append((p_pos[0] - 1, p_pos[1]))\n",
    "    if p_shape in list_s:\n",
    "        if (p_pos[0] + 1,p_pos[1]) != curr_p_pos and lines[p_pos[0] + 1][p_pos[1]] in list_n:\n",
    "            connections.append((p_pos[0] + 1, p_pos[1]))\n",
    "    if p_shape in list_e:\n",
    "        if (p_pos[0],p_pos[1] + 1) != curr_p_pos and lines[p_pos[0]][p_pos[1] + 1] in list_w:\n",
    "            connections.append((p_pos[0], p_pos[1] + 1))\n",
    "    if p_shape in list_w:\n",
    "        if (p_pos[0],p_pos[1] - 1) != curr_p_pos and lines[p_pos[0]][p_pos[1] - 1] in list_e:\n",
    "            connections.append((p_pos[0], p_pos[1] - 1))\n",
    "    return connections\n",
    "\n",
    "\n",
    "# Find the coords of the letter S in the lines\n",
    "S = [\n",
    "    (i, lines[i].find(\"S\"))\n",
    "    for i in range(len(lines))\n",
    "    if lines[i].find(\"S\") != -1\n",
    "][0]\n",
    "\n",
    "pipe_ends = get_next_pipe(None, S)\n",
    "pipe = [pipe_ends[0], S, pipe_ends[1]]\n",
    "next_pipe = pipe_ends[0]\n",
    "\n",
    "\n",
    "# Continue loop until we reach the end of the pipe\n",
    "while pipe[0] != pipe[-1]:\n",
    "    pipe.append(get_next_pipe(pipe[-2], pipe[-1])[0])\n",
    "\n",
    "print((len(pipe)-1)//2)"
   ]
  },
  {
   "cell_type": "markdown",
   "metadata": {},
   "source": [
    "This doesn't work.\n",
    "Should implement [this trick](https://www.reddit.com/r/adventofcode/comments/18evyu9/comment/kcqgo61/?utm_source=share&utm_medium=web2x&context=3)"
   ]
  },
  {
   "cell_type": "code",
   "execution_count": 187,
   "metadata": {},
   "outputs": [
    {
     "name": "stdout",
     "output_type": "stream",
     "text": [
      "OF----7F7F7F7F-7OOOO\n",
      "I|F--7||||||||FJOOOO\n",
      "I||OFJ||||||||L7OOOO\n",
      "FJL7L7LJLJ||LJOL-7OO\n",
      "L--JOL7OOOLJS7F-7L7O\n",
      "OOOOF-JOOF7FJ|L7L7L7\n",
      "OOOOL7OF7||L7|OL7L7|\n",
      "IIIII|FJLJ|FJ|F7|OLJ\n",
      "OOOOFJL-7I||I||||OOO\n",
      "OOOOL---JOLJOLJLJOOO\n",
      "9\n"
     ]
    }
   ],
   "source": [
    "pipe = pipe[::-1]\n",
    "direction = None\n",
    "if (pipe[1][0], pipe[1][1]) == (pipe[0][0]-1, pipe[0][1]): # pipe is above\n",
    "    direction = \"N\"\n",
    "elif (pipe[1][0], pipe[1][1]) == (pipe[0][0]+1, pipe[0][1]): # pipe is below\n",
    "    direction = \"S\"\n",
    "elif (pipe[1][0], pipe[1][1]) == (pipe[0][0], pipe[0][1]-1): # pipe is left\n",
    "    direction = \"W\"\n",
    "elif (pipe[1][0], pipe[1][1]) == (pipe[0][0], pipe[0][1]+1): # pipe is right\n",
    "    direction = \"E\"\n",
    "\n",
    "for i in range(len(pipe)-2):\n",
    "    p_shape = lines[pipe[i][0]][pipe[i][1]]\n",
    "    \n",
    "    # Change direction\n",
    "    if p_shape in ['L', 'J', '7', 'F']:\n",
    "        if (p_shape == '7' and direction == 'N') or (p_shape == 'J' and direction == 'S'):\n",
    "            direction = 'W'\n",
    "        elif (p_shape == 'L' and direction == 'S') or (p_shape == 'F' and direction == 'N'):\n",
    "            direction = 'E'\n",
    "        elif (p_shape == '7' and direction == 'E') or (p_shape == 'F' and direction == 'W'):\n",
    "            direction = 'S'\n",
    "        elif (p_shape == 'L' and direction == 'W') or (p_shape == 'J' and direction == 'E'):\n",
    "            direction = 'N'\n",
    "\n",
    "    if (p_shape in ['|', '7'] and direction == 'N') or (p_shape == 'J' and direction == 'E'): # Let's claim every empty space on the left\n",
    "        line_list = list(lines[pipe[i][0]])\n",
    "        # print(line_list)\n",
    "        # print(\"iteration over \", pipe[i][1]-1)\n",
    "        for j in range(pipe[i][1]-1,0, -1) :\n",
    "            # print(pipe[i][0], j, line_list[j])\n",
    "            # Check if not in pipe\n",
    "            if (pipe[i][0], j) not in pipe :\n",
    "                line_list[j] = 'I'             \n",
    "            else :\n",
    "                break\n",
    "        lines[pipe[i][0]] = ''.join(line_list)\n",
    "\n",
    "counter = 0\n",
    "for line in lines[1:-1]:\n",
    "    # count the number of I\n",
    "    counter += line.count('I')\n",
    "    print(\"%10s\" % line.replace('.', 'O')[1:-1])\n",
    "\n",
    "print(counter)"
   ]
  }
 ],
 "metadata": {
  "kernelspec": {
   "display_name": "env",
   "language": "python",
   "name": "python3"
  },
  "language_info": {
   "codemirror_mode": {
    "name": "ipython",
    "version": 3
   },
   "file_extension": ".py",
   "mimetype": "text/x-python",
   "name": "python",
   "nbconvert_exporter": "python",
   "pygments_lexer": "ipython3",
   "version": "3.11.6"
  }
 },
 "nbformat": 4,
 "nbformat_minor": 2
}
