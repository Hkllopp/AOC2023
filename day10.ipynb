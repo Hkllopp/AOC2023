{
 "cells": [
  {
   "cell_type": "code",
   "execution_count": 55,
   "metadata": {},
   "outputs": [
    {
     "name": "stdout",
     "output_type": "stream",
     "text": [
      "6823\n"
     ]
    }
   ],
   "source": [
    "with open(\"day10.txt\") as f:\n",
    "    lines = f.read().splitlines()\n",
    "\n",
    "# Surround the map with ground tiles\n",
    "lines = [\".\" + line + \".\" for line in lines]\n",
    "lines = [\".\" * len(lines[0])] + lines + [\".\" * len(lines[0])]\n",
    "\n",
    "list_n = [\"|\", \"L\", \"J\", \"S\"]\n",
    "list_s = [\"|\", \"7\", \"F\", \"S\"]\n",
    "list_e = [\"-\", \"L\", \"F\", \"S\"]\n",
    "list_w = [\"-\", \"7\", \"J\", \"S\"]\n",
    "\n",
    "\n",
    "def get_next_pipe(curr_p_pos, p_pos):\n",
    "    p_shape = lines[p_pos[0]][p_pos[1]]\n",
    "    connections = []\n",
    "    if p_shape in list_n:  # lead to north\n",
    "        if (p_pos[0] - 1, p_pos[1]) != curr_p_pos and lines[p_pos[0] - 1][\n",
    "            p_pos[1]\n",
    "        ] in list_s:\n",
    "            connections.append((p_pos[0] - 1, p_pos[1]))\n",
    "    if p_shape in list_s:  # lead to south\n",
    "        if (p_pos[0] + 1, p_pos[1]) != curr_p_pos and lines[p_pos[0] + 1][\n",
    "            p_pos[1]\n",
    "        ] in list_n:\n",
    "            connections.append((p_pos[0] + 1, p_pos[1]))\n",
    "    if p_shape in list_e:  # lead to east\n",
    "        if (p_pos[0], p_pos[1] + 1) != curr_p_pos and lines[p_pos[0]][\n",
    "            p_pos[1] + 1\n",
    "        ] in list_w:\n",
    "            connections.append((p_pos[0], p_pos[1] + 1))\n",
    "    if p_shape in list_w:  # lead to west\n",
    "        if (p_pos[0], p_pos[1] - 1) != curr_p_pos and lines[p_pos[0]][\n",
    "            p_pos[1] - 1\n",
    "        ] in list_e:\n",
    "            connections.append((p_pos[0], p_pos[1] - 1))\n",
    "    return connections\n",
    "\n",
    "\n",
    "# Find the coords of the letter S in the lines\n",
    "S = [\n",
    "    (i, lines[i].find(\"S\"))\n",
    "    for i in range(len(lines))\n",
    "    if lines[i].find(\"S\") != -1\n",
    "][0]\n",
    "\n",
    "pipe_ends = get_next_pipe(None, S)\n",
    "pipe = [pipe_ends[0], S, pipe_ends[1]]\n",
    "next_pipe = pipe_ends[0]\n",
    "\n",
    "\n",
    "# Continue loop until we reach the end of the pipe\n",
    "while pipe[0] != pipe[-1]:\n",
    "    pipe.append(get_next_pipe(pipe[-2], pipe[-1])[0])\n",
    "\n",
    "print((len(pipe) - 1) // 2)"
   ]
  },
  {
   "cell_type": "markdown",
   "metadata": {},
   "source": [
    "Implementing [this trick](https://www.reddit.com/r/adventofcode/comments/18evyu9/comment/kcqgo61/?utm_source=share&utm_medium=web2x&context=3)\n",
    "\n",
    "> I used that trick of scanning left to right for each line, and keep track of the parity of vertical bars I've passed through. The \"inside\" is the region with odd parity."
   ]
  },
  {
   "cell_type": "code",
   "execution_count": 60,
   "metadata": {},
   "outputs": [
    {
     "name": "stdout",
     "output_type": "stream",
     "text": [
      "415\n"
     ]
    }
   ],
   "source": [
    "counted_shapes = [\"F\", \"7\", \"|\"]\n",
    "\n",
    "\n",
    "# I Should count S only if it acts as a F, 7 or |\n",
    "if ((S[0] + 1, S[1]) in pipe_ends and (S[0], S[1] + 1) in pipe_ends) or ( # S acts as F\n",
    "    (S[0] + 1, S[1]) in pipe_ends and (S[0], S[1] - 1) in pipe_ends) or ( # S acts as 7\n",
    "    (S[0] - 1, S[1]) in pipe_ends and (S[0] + 1, S[1]) in pipe_ends) or ( # S acts as |\n",
    "):\n",
    "    counted_shapes.append(\"S\")\n",
    "\n",
    "inside_counter = 0\n",
    "counter = 0\n",
    "for i in range(len(lines)):\n",
    "    for j in range(len(lines[i])):\n",
    "        if (i, j) in pipe and lines[i][j] in counted_shapes: # If this is a pipe that needs to be counted\n",
    "            counter += 1\n",
    "        if (i, j) not in pipe: # If this is not a pipe\n",
    "            inside_counter += counter %2 # If counter is odd, we are inside the pipe\n",
    "print(inside_counter)"
   ]
  }
 ],
 "metadata": {
  "kernelspec": {
   "display_name": "env",
   "language": "python",
   "name": "python3"
  },
  "language_info": {
   "codemirror_mode": {
    "name": "ipython",
    "version": 3
   },
   "file_extension": ".py",
   "mimetype": "text/x-python",
   "name": "python",
   "nbconvert_exporter": "python",
   "pygments_lexer": "ipython3",
   "version": "3.11.6"
  }
 },
 "nbformat": 4,
 "nbformat_minor": 2
}
