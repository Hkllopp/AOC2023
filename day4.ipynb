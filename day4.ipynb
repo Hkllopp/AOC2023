{
 "cells": [
  {
   "cell_type": "code",
   "execution_count": 36,
   "metadata": {},
   "outputs": [
    {
     "name": "stdout",
     "output_type": "stream",
     "text": [
      "25004\n"
     ]
    }
   ],
   "source": [
    "import re\n",
    "\n",
    "with open(\"day4.txt\") as f:\n",
    "    lines = f.read().splitlines()\n",
    "\n",
    "total_score = 0\n",
    "for line in lines:\n",
    "    _, col1, col2 = line.replace(\":\", \"|\").split(\"|\")\n",
    "    winning_nb = re.findall(r\"\\d+\", col1)\n",
    "    played_nb = re.findall(r\"\\d+\", col2)\n",
    "\n",
    "    score = 0\n",
    "    for nb in played_nb:\n",
    "        if nb in winning_nb:\n",
    "            score = 1 if score == 0 else score * 2\n",
    "\n",
    "    total_score += score\n",
    "\n",
    "print(total_score)"
   ]
  },
  {
   "cell_type": "code",
   "execution_count": 37,
   "metadata": {},
   "outputs": [
    {
     "name": "stdout",
     "output_type": "stream",
     "text": [
      "14427616\n"
     ]
    }
   ],
   "source": [
    "cards = {k+1: 1 for k in range(len(lines))}\n",
    "verbose = False\n",
    "for i, line in enumerate(lines):\n",
    "    print(f\"Card {i+1}\") if verbose else None\n",
    "    _, col1, col2 = line.replace(\":\", \"|\").split(\"|\")\n",
    "    winning_nb = re.findall(r\"\\d+\", col1)\n",
    "    played_nb = re.findall(r\"\\d+\", col2)\n",
    "\n",
    "    # Processing the score\n",
    "    nb_winning = 0\n",
    "    for nb in played_nb:\n",
    "        if nb in winning_nb:\n",
    "            nb_winning += 1\n",
    "    print(f\"    Card {i+1} has {nb_winning} winning numbers\") if verbose else None\n",
    "\n",
    "    # Getting all the winning cards\n",
    "    multiplier = cards[i+1]\n",
    "\n",
    "    cards_nb = [i+j+2 for j in range(nb_winning) if i+j+2 <= len(cards)]\n",
    "    print(f\"    Card {i+1} will give {multiplier} to cards {cards_nb}\") if verbose else None\n",
    "    for card_nb in cards_nb:\n",
    "        cards[card_nb] += multiplier\n",
    "    \n",
    "print(sum(cards.values()))"
   ]
  }
 ],
 "metadata": {
  "kernelspec": {
   "display_name": "env",
   "language": "python",
   "name": "python3"
  },
  "language_info": {
   "codemirror_mode": {
    "name": "ipython",
    "version": 3
   },
   "file_extension": ".py",
   "mimetype": "text/x-python",
   "name": "python",
   "nbconvert_exporter": "python",
   "pygments_lexer": "ipython3",
   "version": "3.11.6"
  }
 },
 "nbformat": 4,
 "nbformat_minor": 2
}
