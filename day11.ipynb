{
 "cells": [
  {
   "cell_type": "code",
   "execution_count": 108,
   "metadata": {},
   "outputs": [
    {
     "name": "stdout",
     "output_type": "stream",
     "text": [
      "Part 1: 10077850\n",
      "Part 2: 504715068438\n"
     ]
    }
   ],
   "source": [
    "with open(\"day11.txt\") as f:\n",
    "    data = f.read().splitlines()\n",
    "\n",
    "# Void lines\n",
    "void_lines = []\n",
    "for i in range(len(data)):\n",
    "    if data[i] == \".\" * len(data[i]):\n",
    "        void_lines.append(i)\n",
    "\n",
    "# Void columns\n",
    "void_columns = []\n",
    "for y in range(len(data[0])):\n",
    "    column = \"\"\n",
    "    for x in range(len(data)):\n",
    "        column += data[x][y]\n",
    "\n",
    "    if column == \".\" * len(column):\n",
    "        void_columns.append(y)\n",
    "    \n",
    "# Listing the galaxies\n",
    "galaxies = {}\n",
    "\n",
    "counter = 1\n",
    "for i, line in enumerate(data):\n",
    "    line = list(line)\n",
    "    for col in range(len(line)):\n",
    "        if line[col] == \"#\":\n",
    "            galaxies[counter] = (col, i)\n",
    "            line[col] = str(counter)\n",
    "            data[i] = \"\".join(line)\n",
    "            counter += 1\n",
    "\n",
    "# Calculating distances\n",
    "for part2 in (False, True):\n",
    "    distances = 0\n",
    "    factor = 1000000 if part2 else 2\n",
    "    print(\"Part 2\" if part2 else \"Part 1\", end=\": \")\n",
    "    galaxies_to_check = list(galaxies.keys())\n",
    "    for galaxy in galaxies:\n",
    "        for other_galaxy in galaxies_to_check:\n",
    "            if galaxy != other_galaxy:\n",
    "                galaxy_a_x = galaxies[galaxy][0]\n",
    "                galaxy_a_y = galaxies[galaxy][1]\n",
    "                galaxy_b_x = galaxies[other_galaxy][0]\n",
    "                galaxy_b_y = galaxies[other_galaxy][1]\n",
    "\n",
    "                # how many void_columns between them\n",
    "                void_columns_between = 0\n",
    "                for void_column in void_columns:\n",
    "                    if galaxy_a_x < void_column < galaxy_b_x or galaxy_b_x < void_column < galaxy_a_x:\n",
    "                        void_columns_between += 1\n",
    "                \n",
    "                # how many void_lines between them\n",
    "                void_lines_between = 0\n",
    "                for void_line in void_lines:\n",
    "                    if galaxy_a_y < void_line < galaxy_b_y or galaxy_b_y < void_line < galaxy_a_y:\n",
    "                        void_lines_between += 1\n",
    "                \n",
    "                distance = abs(galaxy_a_x - galaxy_b_x) + abs(galaxy_a_y - galaxy_b_y) + (void_columns_between + void_lines_between) * (factor-1)\n",
    "                distances += distance\n",
    "\n",
    "        galaxies_to_check.remove(galaxy)\n",
    "    print(distances)"
   ]
  }
 ],
 "metadata": {
  "kernelspec": {
   "display_name": "env",
   "language": "python",
   "name": "python3"
  },
  "language_info": {
   "codemirror_mode": {
    "name": "ipython",
    "version": 3
   },
   "file_extension": ".py",
   "mimetype": "text/x-python",
   "name": "python",
   "nbconvert_exporter": "python",
   "pygments_lexer": "ipython3",
   "version": "3.11.6"
  }
 },
 "nbformat": 4,
 "nbformat_minor": 2
}
