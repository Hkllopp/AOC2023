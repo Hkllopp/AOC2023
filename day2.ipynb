{
 "cells": [
  {
   "cell_type": "code",
   "execution_count": 14,
   "metadata": {},
   "outputs": [
    {
     "name": "stdout",
     "output_type": "stream",
     "text": [
      "result : 2331\n"
     ]
    }
   ],
   "source": [
    "import re\n",
    "\n",
    "with open(\"day2input.txt\") as f:\n",
    "    my_input = f.read()\n",
    "\n",
    "possible_g = []\n",
    "for i, line in enumerate(my_input.splitlines()):\n",
    "    possible = True\n",
    "\n",
    "    draws = line.split(\":\")[1]\n",
    "    sets = draws.split(\";\")\n",
    "    for my_set in sets:\n",
    "        for cubes in my_set.split(\",\"):\n",
    "            quantity = int(re.findall(r\"\\d+\", cubes)[0])\n",
    "            if cubes[-3:] == \"red\" and quantity > 12:\n",
    "                # print(f\"game {i+1}, impossible: {quantity} red\")\n",
    "                possible = False\n",
    "            elif cubes[-5:] == \"green\" and quantity > 13:\n",
    "                # print(f\"game {i+1}, impossible: {quantity} green\")\n",
    "                possible = False\n",
    "            else:\n",
    "                if quantity > 14:\n",
    "                    # print(f\"game {i+1}, impossible: {quantity} blues\")\n",
    "                    possible = False\n",
    "    if possible:\n",
    "        possible_g.append(i+1)\n",
    "\n",
    "print(f\"result : {sum(possible_g)}\")"
   ]
  },
  {
   "cell_type": "code",
   "execution_count": 15,
   "metadata": {},
   "outputs": [
    {
     "name": "stdout",
     "output_type": "stream",
     "text": [
      "result : 71585\n"
     ]
    }
   ],
   "source": [
    "total_power = 0\n",
    "for i, line in enumerate(my_input.splitlines()):\n",
    "    nb_red = 0\n",
    "    nb_green = 0\n",
    "    nb_blue = 0\n",
    "\n",
    "    draws = line.split(\":\")[1]\n",
    "    sets = draws.split(\";\")\n",
    "    for my_set in sets:\n",
    "        for cubes in my_set.split(\",\"):\n",
    "            quantity = int(re.findall(r\"\\d+\", cubes)[0])\n",
    "            if cubes[-3:] == \"red\":\n",
    "                nb_red = quantity if quantity > nb_red else nb_red\n",
    "            elif cubes[-5:] == \"green\":\n",
    "                nb_green = quantity if quantity > nb_green else nb_green\n",
    "            else:\n",
    "                nb_blue = quantity if quantity > nb_blue else nb_blue\n",
    "\n",
    "    total_power += nb_red * nb_green * nb_blue\n",
    "\n",
    "print(f\"result : {total_power}\")"
   ]
  }
 ],
 "metadata": {
  "kernelspec": {
   "display_name": "env",
   "language": "python",
   "name": "python3"
  },
  "language_info": {
   "codemirror_mode": {
    "name": "ipython",
    "version": 3
   },
   "file_extension": ".py",
   "mimetype": "text/x-python",
   "name": "python",
   "nbconvert_exporter": "python",
   "pygments_lexer": "ipython3",
   "version": "3.11.6"
  }
 },
 "nbformat": 4,
 "nbformat_minor": 2
}
