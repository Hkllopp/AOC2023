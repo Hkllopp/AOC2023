{
 "cells": [
  {
   "cell_type": "code",
   "execution_count": 106,
   "metadata": {},
   "outputs": [
    {
     "name": "stdout",
     "output_type": "stream",
     "text": [
      "1624896\n"
     ]
    }
   ],
   "source": [
    "import re\n",
    "\n",
    "with open('day6.txt') as f:\n",
    "    data = f.read().splitlines()\n",
    "\n",
    "\n",
    "times_ms = [int(nb) for nb in re.compile(r'\\d+').findall(data[0])]\n",
    "record_mm = [int(nb) for nb in re.compile(r'\\d+').findall(data[1])]\n",
    "\n",
    "score = 1\n",
    "\n",
    "for duration, record in zip(times_ms, record_mm):\n",
    "    # Divide the duration in two halves because time and speed are inversely proportional\n",
    "    possible_speed = list(range(1, int(duration/2 + 1))) if duration % 2 == 0 else list(range(1, int((duration+1)/2)))\n",
    "    remaining_time = [duration - i for i in possible_speed]\n",
    "    different_records = [speed * time for speed, time in zip(possible_speed, remaining_time) if speed * time > record]\n",
    "\n",
    "    score *= len(different_records) * 2 - 1 if duration % 2 == 0 else len(different_records) * 2\n",
    "\n",
    "print(score)"
   ]
  },
  {
   "cell_type": "code",
   "execution_count": 107,
   "metadata": {},
   "outputs": [
    {
     "name": "stdout",
     "output_type": "stream",
     "text": [
      "There are 32583852 different records\n"
     ]
    }
   ],
   "source": [
    "duration = int(''.join(re.compile(r'\\d+').findall(data[0])))\n",
    "record = int(''.join(re.compile(r'\\d+').findall(data[1])))\n",
    "\n",
    "\n",
    "# Divide infinitely until the record is reached\n",
    "min_duration = 1\n",
    "max_duration = duration//2\n",
    "\n",
    "while True:\n",
    "    if max_duration == min_duration :\n",
    "        middle = min_duration\n",
    "        break\n",
    "    else:\n",
    "        middle = min_duration + (max_duration - min_duration) // 2\n",
    "        if middle * (duration - middle) < record:\n",
    "            min_duration = middle + 1\n",
    "        else:\n",
    "            max_duration = middle\n",
    "\n",
    "    \n",
    "print(f\"There are {duration - (middle * 2) + 1} different records\")"
   ]
  }
 ],
 "metadata": {
  "kernelspec": {
   "display_name": "env",
   "language": "python",
   "name": "python3"
  },
  "language_info": {
   "codemirror_mode": {
    "name": "ipython",
    "version": 3
   },
   "file_extension": ".py",
   "mimetype": "text/x-python",
   "name": "python",
   "nbconvert_exporter": "python",
   "pygments_lexer": "ipython3",
   "version": "3.11.6"
  }
 },
 "nbformat": 4,
 "nbformat_minor": 2
}
