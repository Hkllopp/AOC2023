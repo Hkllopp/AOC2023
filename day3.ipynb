{
 "cells": [
  {
   "cell_type": "code",
   "execution_count": 40,
   "metadata": {},
   "outputs": [
    {
     "name": "stdout",
     "output_type": "stream",
     "text": [
      "525911\n"
     ]
    }
   ],
   "source": [
    "import re\n",
    "\n",
    "with open('day3input.txt') as f:\n",
    "    lines = f.read().splitlines()\n",
    "\n",
    "\n",
    "def find_coordinates_around(first_coord, length, max):\n",
    "    x, y = first_coord\n",
    "    max_x, max_y = max\n",
    "    return [(x + i - 1, y + j - 1) for i in range(3) for j in range(length + 2) if (x + i - 1) >= 0 and (y + j - 1) >= 0 and (x + i - 1) <= max_x and (y + j - 1) <= max_y]\n",
    "\n",
    "max_coords = (len(lines) - 1, len(lines[0]) - 1)\n",
    "\n",
    "parts_sum = 0\n",
    "\n",
    "for i, line in enumerate(lines):\n",
    "    matches = re.finditer(r'\\d+', line)\n",
    "    for match in matches:\n",
    "        nb_coords = (i, match.start())\n",
    "        nb = int(match.group())\n",
    "        len_nb = len(match.group())\n",
    "        coords_around = find_coordinates_around(nb_coords, len_nb, max_coords)\n",
    "        \n",
    "        # print(f\"Number found at {nb_coords} with value {nb}\")\n",
    "        # print(f\"Coordinates around: {coords_around}\")\n",
    "\n",
    "        for coord in coords_around:\n",
    "            symbol = lines[coord[0]][coord[1]]\n",
    "            if not symbol.isdigit() and symbol != '.':\n",
    "                # print(f\"Found symbol at {coord} with symbol {symbol}\")\n",
    "                parts_sum += nb\n",
    "\n",
    "print(parts_sum)"
   ]
  },
  {
   "cell_type": "code",
   "execution_count": 45,
   "metadata": {},
   "outputs": [
    {
     "name": "stdout",
     "output_type": "stream",
     "text": [
      "75805607\n"
     ]
    }
   ],
   "source": [
    "import re\n",
    "\n",
    "with open('day3input.txt') as f:\n",
    "    lines = f.read().splitlines()\n",
    "\n",
    "\n",
    "def find_coordinates_around(first_coord, length, max):\n",
    "    x, y = first_coord\n",
    "    max_x, max_y = max\n",
    "    return [(x + i - 1, y + j - 1) for i in range(3) for j in range(length + 2) if (x + i - 1) >= 0 and (y + j - 1) >= 0 and (x + i - 1) <= max_x and (y + j - 1) <= max_y]\n",
    "\n",
    "max_coords = (len(lines) - 1, len(lines[0]) - 1)\n",
    "\n",
    "gears_list = {}\n",
    "\n",
    "for i, line in enumerate(lines):\n",
    "    matches = re.finditer(r'\\d+', line)\n",
    "    for match in matches:\n",
    "        nb_coords = (i, match.start())\n",
    "        nb = int(match.group())\n",
    "        len_nb = len(match.group())\n",
    "        coords_around = find_coordinates_around(nb_coords, len_nb, max_coords)\n",
    "        \n",
    "        # print(f\"Number found at {nb_coords} with value {nb}\")\n",
    "        # print(f\"Coordinates around: {coords_around}\")\n",
    "\n",
    "        for coord in coords_around:\n",
    "            symbol = lines[coord[0]][coord[1]]\n",
    "            if symbol == '*':\n",
    "                if coord in gears_list:\n",
    "                    gears_list[coord].append(nb)\n",
    "                else:\n",
    "                    gears_list[coord] = [nb]\n",
    "\n",
    "# print(gears_list)\n",
    "sum_gears = 0\n",
    "for key, value in gears_list.items():\n",
    "    if len(value) == 2:\n",
    "        gear_ratio = value[0] * value[1]\n",
    "        sum_gears += gear_ratio\n",
    "\n",
    "print(sum_gears)"
   ]
  }
 ],
 "metadata": {
  "kernelspec": {
   "display_name": "env",
   "language": "python",
   "name": "python3"
  },
  "language_info": {
   "codemirror_mode": {
    "name": "ipython",
    "version": 3
   },
   "file_extension": ".py",
   "mimetype": "text/x-python",
   "name": "python",
   "nbconvert_exporter": "python",
   "pygments_lexer": "ipython3",
   "version": "3.11.6"
  }
 },
 "nbformat": 4,
 "nbformat_minor": 2
}
