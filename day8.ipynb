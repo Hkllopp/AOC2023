{
 "cells": [
  {
   "cell_type": "code",
   "execution_count": 18,
   "metadata": {},
   "outputs": [
    {
     "name": "stdout",
     "output_type": "stream",
     "text": [
      "13301\n"
     ]
    }
   ],
   "source": [
    "import re\n",
    "\n",
    "with open(\"day8.txt\") as f:\n",
    "    data = f.read().splitlines()\n",
    "\n",
    "instructions = data[0]\n",
    "\n",
    "nodes = {}\n",
    "\n",
    "for line in data[2:]:\n",
    "    # Filter groups of uppercase letters\n",
    "    groups = re.findall(r\"([A-Z]+)\", line)\n",
    "    node = groups[0]\n",
    "    l_path = groups[1]\n",
    "    r_path = groups[2]\n",
    "    nodes[node] = [l_path, r_path]\n",
    "\n",
    "steps = 0\n",
    "current_node = \"AAA\"\n",
    "while current_node != \"ZZZ\":\n",
    "    path = instructions[steps % len(instructions)]\n",
    "    steps += 1\n",
    "    path = 0 if path == \"L\" else 1\n",
    "    current_node = nodes[current_node][path]\n",
    "print(steps)"
   ]
  },
  {
   "cell_type": "markdown",
   "metadata": {},
   "source": [
    "not optimized"
   ]
  },
  {
   "cell_type": "code",
   "execution_count": 29,
   "metadata": {},
   "outputs": [
    {
     "name": "stdout",
     "output_type": "stream",
     "text": [
      "found start of loop\n",
      "found start of loop\n",
      "found start of loop\n",
      "found start of loop\n",
      "found start of loop\n",
      "found start of loop\n",
      "closed a loop\n",
      "closed a loop\n",
      "closed a loop\n",
      "closed a loop\n",
      "closed a loop\n",
      "closed a loop\n",
      "found at least one closed loop for each node in 37922 steps :\n",
      "12169\n",
      "13301\n",
      "14999\n",
      "16697\n",
      "17263\n",
      "18961\n",
      "7309459565207\n"
     ]
    }
   ],
   "source": [
    "import re\n",
    "import math\n",
    "\n",
    "with open(\"day8.txt\") as f:\n",
    "    data = f.read().splitlines()\n",
    "\n",
    "instructions = data[0]\n",
    "\n",
    "nodes_loops = {}\n",
    "\n",
    "for line in data[2:]:\n",
    "    # Filter groups of uppercase letters or numbers\n",
    "    groups = re.findall(r\"([A-Z0-9]+)\", line)\n",
    "    nodes_loops[groups[0]] = {\n",
    "        \"L\": groups[1],\n",
    "        \"R\": groups[2],\n",
    "    }\n",
    "\n",
    "current_nodes = {node:{'loop_width' : None,'loop_start' : None} for node in nodes_loops.keys() if node[-1] == \"A\"}\n",
    "\n",
    "steps = 0\n",
    "\n",
    "while not all(node['loop_width'] for node in current_nodes.values()):\n",
    "    instructions_step = instructions[steps % len(instructions)]\n",
    "\n",
    "\n",
    "    # Checking every node that is currently open or isn't in a loop yet\n",
    "    for node, values in [(node, value) for node, value in current_nodes.items() if not value['loop_width']]:\n",
    "        # Moving to the next node\n",
    "        next_node = nodes_loops[node][instructions_step]\n",
    "        current_nodes[next_node] = current_nodes[node]\n",
    "        current_nodes.pop(node)\n",
    "\n",
    "        # Cheking if at an extremity of a loop\n",
    "        if next_node[-1] == \"Z\":\n",
    "            if not values['loop_start']: # We are at the start of a loop\n",
    "                print(\"found start of loop\")\n",
    "                current_nodes[next_node]['loop_start'] = steps\n",
    "            else: # We are at the end of a loop\n",
    "                print(\"closed a loop\")\n",
    "                starting_step = current_nodes[next_node]['loop_start']\n",
    "                current_nodes[next_node]['loop_width'] = steps - starting_step\n",
    "                current_nodes[next_node]['loop_start'] = None\n",
    "\n",
    "    \n",
    "    steps += 1\n",
    "\n",
    "print(f\"found at least one closed loop for each node in {steps} steps :\")\n",
    "for node in current_nodes.values():\n",
    "    print(node['loop_width'])\n",
    "\n",
    "print(math.lcm(*[node['loop_width'] for node in current_nodes.values()]))\n",
    "\n",
    "        \n",
    "    "
   ]
  }
 ],
 "metadata": {
  "kernelspec": {
   "display_name": "env",
   "language": "python",
   "name": "python3"
  },
  "language_info": {
   "codemirror_mode": {
    "name": "ipython",
    "version": 3
   },
   "file_extension": ".py",
   "mimetype": "text/x-python",
   "name": "python",
   "nbconvert_exporter": "python",
   "pygments_lexer": "ipython3",
   "version": "3.11.6"
  }
 },
 "nbformat": 4,
 "nbformat_minor": 2
}
